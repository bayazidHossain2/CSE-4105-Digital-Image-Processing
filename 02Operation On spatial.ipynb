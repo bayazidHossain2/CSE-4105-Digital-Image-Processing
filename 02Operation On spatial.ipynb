{
 "cells": [
  {
   "cell_type": "code",
   "execution_count": 1,
   "id": "9bd18091-fc8b-4d7d-b5fe-cffc6c2511af",
   "metadata": {},
   "outputs": [],
   "source": [
    "import cv2"
   ]
  },
  {
   "cell_type": "code",
   "execution_count": 2,
   "id": "afa6356b-52aa-4370-bf04-12cf01ed8bbc",
   "metadata": {},
   "outputs": [
    {
     "name": "stdout",
     "output_type": "stream",
     "text": [
      "65 100\n"
     ]
    }
   ],
   "source": [
    "# Read the image\n",
    "image = cv2.imread('image/natures.png', 0)\n",
    "\n",
    "height, width = image.shape\n",
    "print(height, width)\n",
    "for i in range(0, height):\n",
    "    for j in range(0, width):\n",
    "        if image[i][j]>=180 : \n",
    "            image[i][j] = 255\n",
    "            \n",
    "        elif image[i][j]>=80 : \n",
    "            image[i][j] = 100\n",
    "        else:\n",
    "            image[i][j] = 0\n"
   ]
  },
  {
   "cell_type": "code",
   "execution_count": null,
   "id": "ea09494f-35bd-4d00-bc92-e12f32b65f34",
   "metadata": {},
   "outputs": [],
   "source": [
    "# Display the image\n",
    "cv2.imshow('Image', image)\n",
    "\n",
    "# Wait for a key event and close the window\n",
    "cv2.waitKey(0)\n",
    "cv2.destroyAllWindows()"
   ]
  },
  {
   "cell_type": "code",
   "execution_count": 36,
   "id": "9f3ecea7-d3f1-447f-90d1-28c913a6060c",
   "metadata": {},
   "outputs": [
    {
     "ename": "IndentationError",
     "evalue": "expected an indented block after 'for' statement on line 2 (969662668.py, line 9)",
     "output_type": "error",
     "traceback": [
      "\u001b[1;36m  Cell \u001b[1;32mIn[36], line 9\u001b[1;36m\u001b[0m\n\u001b[1;33m    cv2.imshow('Image', image)\u001b[0m\n\u001b[1;37m                              ^\u001b[0m\n\u001b[1;31mIndentationError\u001b[0m\u001b[1;31m:\u001b[0m expected an indented block after 'for' statement on line 2\n"
     ]
    }
   ],
   "source": [
    "for i in range(0, height):\n",
    "    for j in range(0, width):\n",
    "        # if i>0 and i<(height-2) and j>0 and j<(width-2) and (i%3==0) and (j%3==0):\n",
    "            # image[i][j]=(image[i-1][j+1]+image[i-1][j] +image[i-1][j+1]+image[i][j+1]+image[i][j-1]+image[i+1][j-1]+image[i+1][j]+image[i+1][j+1])/8+200\n",
    "           "
   ]
  },
  {
   "cell_type": "code",
   "execution_count": null,
   "id": "1063ec3a-f58f-4b0c-b334-185f3dac8420",
   "metadata": {},
   "outputs": [],
   "source": []
  },
  {
   "cell_type": "code",
   "execution_count": null,
   "id": "19797516-42d8-4a8f-8de6-5d108260f828",
   "metadata": {},
   "outputs": [],
   "source": []
  }
 ],
 "metadata": {
  "kernelspec": {
   "display_name": "Python 3 (ipykernel)",
   "language": "python",
   "name": "python3"
  },
  "language_info": {
   "codemirror_mode": {
    "name": "ipython",
    "version": 3
   },
   "file_extension": ".py",
   "mimetype": "text/x-python",
   "name": "python",
   "nbconvert_exporter": "python",
   "pygments_lexer": "ipython3",
   "version": "3.11.1"
  }
 },
 "nbformat": 4,
 "nbformat_minor": 5
}

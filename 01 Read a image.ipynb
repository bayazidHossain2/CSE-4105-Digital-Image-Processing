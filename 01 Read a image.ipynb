{
 "cells": [
  {
   "cell_type": "markdown",
   "metadata": {},
   "source": [
    "01 Input a image and show using python"
   ]
  },
  {
   "cell_type": "code",
   "execution_count": 23,
   "metadata": {},
   "outputs": [
    {
     "name": "stdout",
     "output_type": "stream",
     "text": [
      "649 998 50\n"
     ]
    }
   ],
   "source": [
    "import cv2\n",
    "\n",
    "# Read the image\n",
    "image = cv2.imread('image/nature.png', 0)\n",
    "\n",
    "height, width = image.shape\n",
    "print(height, width, image[0][900])\n",
    "for i in range(0, height):\n",
    "    for j in range(0, width):\n",
    "        if image[i][j]>=180 : \n",
    "            image[i][j] = 255\n",
    "            \n",
    "        elif image[i][j]>=80 : \n",
    "            image[i][j] = 100\n",
    "        else:\n",
    "            image[i][j] = 0\n",
    "\n",
    "# Display the image\n",
    "cv2.imshow('Image', image)\n",
    "\n",
    "# Wait for a key event and close the window\n",
    "cv2.waitKey(0)\n",
    "cv2.destroyAllWindows()"
   ]
  },
  {
   "cell_type": "markdown",
   "metadata": {},
   "source": [
    "02 Add bounday to the input image"
   ]
  },
  {
   "cell_type": "code",
   "execution_count": 7,
   "metadata": {},
   "outputs": [],
   "source": [
    "import cv2\n",
    "import numpy as np\n",
    "\n",
    "def add_black_border(input_path, output_path, border_size):\n",
    "    # Read the image\n",
    "    original_image = cv2.imread(input_path)\n",
    "\n",
    "    # Get the image dimensions\n",
    "    height, width, _ = original_image.shape\n",
    "\n",
    "    # Create a new image with the desired border size\n",
    "    bordered_image = np.zeros((height + 2 * border_size, width + 2 * border_size, 3), dtype=np.uint8)\n",
    "\n",
    "    # Copy the original image into the center of the new image\n",
    "    bordered_image[border_size:border_size + height, border_size:border_size + width, :] = original_image\n",
    "\n",
    "    # # Save the result\n",
    "    # cv2.imwrite(output_path, bordered_image)\n",
    "\n",
    "    # Display the image\n",
    "    cv2.imshow('Image', bordered_image)\n",
    "\n",
    "    # Wait for a key event and close the window\n",
    "    cv2.waitKey(0)\n",
    "    cv2.destroyAllWindows()\n",
    "\n",
    "\n",
    "# Example usage\n",
    "input_image_path = \"image/nature.png\"\n",
    "output_image_path = \"image/output.png\"\n",
    "border_size = 10  # You can adjust the border size as needed\n",
    "\n",
    "add_black_border(input_image_path, output_image_path, border_size)"
   ]
  },
  {
   "cell_type": "markdown",
   "metadata": {},
   "source": [
    "Grey Scale Image Square border"
   ]
  },
  {
   "cell_type": "code",
   "execution_count": 6,
   "metadata": {},
   "outputs": [
    {
     "name": "stdout",
     "output_type": "stream",
     "text": [
      "(500, 500)\n",
      "0\n"
     ]
    }
   ],
   "source": [
    "import cv2\n",
    "import numpy as np\n",
    "\n",
    "# Read the image\n",
    "image = cv2.imread('image/output.png')\n",
    "\n",
    "height = 500\n",
    "width = 500\n",
    "\n",
    "bordered_image = np.zeros((height,width), dtype=np.uint8)\n",
    "print(bordered_image.shape)\n",
    "bordered_image[250][250]=255\n",
    "print(bordered_image[0][0])\n",
    "\n",
    "border = 10\n",
    "\n",
    "for i in range(height):\n",
    "    for j in range(width):\n",
    "        # condigiton for square border\n",
    "        if(i<border or i>(height-border) or j<border or j>(width-border)):\n",
    "            bordered_image[i][j] = 155\n",
    "\n",
    "# Display the image\n",
    "cv2.imshow('Image', bordered_image)\n",
    "\n",
    "# Wait for a key event and close the window\n",
    "cv2.waitKey(0)\n",
    "cv2.destroyAllWindows()"
   ]
  },
  {
   "cell_type": "markdown",
   "metadata": {},
   "source": [
    "03 Change the diagonal value or Grey Scale image drow a cross"
   ]
  },
  {
   "cell_type": "code",
   "execution_count": 5,
   "metadata": {},
   "outputs": [],
   "source": [
    "import cv2\n",
    "import numpy as np\n",
    "import random\n",
    "\n",
    "# Read the image\n",
    "image = cv2.imread('image/output.png')\n",
    "\n",
    "height = 500\n",
    "width = 500\n",
    "\n",
    "bordered_image = np.zeros((height,width), dtype=np.uint8)\n",
    "\n",
    "bordered_image[0][0]=255\n",
    "\n",
    "for i in range(height):\n",
    "    for j in range(width):\n",
    "        \n",
    "        if(i==j or i==(width-j)):\n",
    "            bordered_image[i][j] = (127*(j/width) * 127*(i/height) / 3)%256\n",
    "\n",
    "# Display the image\n",
    "cv2.imshow('Image', bordered_image)\n",
    "\n",
    "# Wait for a key event and close the window\n",
    "cv2.waitKey(0)\n",
    "cv2.destroyAllWindows()"
   ]
  }
 ],
 "metadata": {
  "kernelspec": {
   "display_name": "Python 3",
   "language": "python",
   "name": "python3"
  },
  "language_info": {
   "codemirror_mode": {
    "name": "ipython",
    "version": 3
   },
   "file_extension": ".py",
   "mimetype": "text/x-python",
   "name": "python",
   "nbconvert_exporter": "python",
   "pygments_lexer": "ipython3",
   "version": "3.11.1"
  }
 },
 "nbformat": 4,
 "nbformat_minor": 2
}
